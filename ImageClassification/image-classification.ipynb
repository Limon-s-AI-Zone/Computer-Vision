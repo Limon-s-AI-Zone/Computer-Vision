{
 "cells": [
  {
   "cell_type": "markdown",
   "metadata": {},
   "source": [
    "### Import Section"
   ]
  },
  {
   "cell_type": "code",
   "execution_count": 1,
   "metadata": {},
   "outputs": [],
   "source": [
    "# import necessay modules\n",
    "import numpy as np\n",
    "import torch\n",
    "import torchinfo\n",
    "import torch.nn.functional as F  # Parameterless functions, like (some) activation functions\n",
    "import torchvision.datasets as datasets  # Standard datasets\n",
    "from torch.utils.data import Dataset, DataLoader # Gives easier dataset managment by creating mini batches etc.\n",
    "from torch.utils.data.sampler import SubsetRandomSampler\n",
    "import torchvision.transforms as transforms  # Transformations we can perform on our dataset for augmentation\n",
    "from torch import optim  # For optimizers like SGD, Adam, etc.\n",
    "from torch import nn  # All neural network modules\n",
    "from tqdm import tqdm # for nice loading\n",
    "import matplotlib.pyplot as plt\n",
    "import os\n",
    "import itertools"
   ]
  },
  {
   "cell_type": "markdown",
   "metadata": {},
   "source": [
    "### Config Section"
   ]
  },
  {
   "cell_type": "code",
   "execution_count": 2,
   "metadata": {},
   "outputs": [],
   "source": [
    "# device config\n",
    "device=torch.device('cuda' if torch.cuda.is_available() else 'cpu')"
   ]
  },
  {
   "cell_type": "markdown",
   "metadata": {},
   "source": [
    "#### Hyper Parameter"
   ]
  },
  {
   "cell_type": "code",
   "execution_count": 3,
   "metadata": {},
   "outputs": [],
   "source": [
    "NUM_WORKERS = 2\n",
    "BATCH_SIZE = 64\n",
    "PIN_MEMORY = True\n",
    "LOAD_MODEL = True\n",
    "SAVE_MODEL = True\n",
    "CHECKPOINT_PATH = \"checkpoints/mnist_checkpoint.pth.tar\"\n",
    "WEIGHT_DECAY = 1e-4\n",
    "LEARNING_RATE = 0.001\n",
    "NUM_EPOCHS = 50\n",
    "VALID_SIZE= .2"
   ]
  },
  {
   "cell_type": "markdown",
   "metadata": {},
   "source": [
    "### Data Processing Section"
   ]
  },
  {
   "cell_type": "code",
   "execution_count": 4,
   "metadata": {},
   "outputs": [],
   "source": [
    "def get_dataloader(batch_size, num_workers=0):\n",
    "\n",
    "    # percentage of training set to use as validation\n",
    "    valid_size = 0.2\n",
    "\n",
    "    # convert data to torch.FloatTensor\n",
    "    transform = transforms.ToTensor()\n",
    "\n",
    "    # choose the training and test datasets\n",
    "    train_data = datasets.MNIST(\n",
    "        root=\"./data\", train=True, download=True, transform=transform\n",
    "    )\n",
    "\n",
    "    test_data = datasets.MNIST(\n",
    "        root=\"./data\", train=False, download=True, transform=transform\n",
    "    )\n",
    "\n",
    "    # obtain training indices that will be used for validation\n",
    "    num_train = len(train_data)\n",
    "    indices = list(range(num_train))\n",
    "    np.random.shuffle(indices)\n",
    "    split = int(np.floor(valid_size * num_train))\n",
    "    train_idx, valid_idx = indices[split:], indices[:split]\n",
    "\n",
    "    # define samplers for obtaining training and validation batches\n",
    "    train_sampler = SubsetRandomSampler(train_idx)\n",
    "    valid_sampler = SubsetRandomSampler(valid_idx)\n",
    "\n",
    "    # load training data in batches\n",
    "    train_loader = torch.utils.data.DataLoader(\n",
    "        train_data,\n",
    "        batch_size=batch_size,\n",
    "        sampler=train_sampler,\n",
    "        num_workers=num_workers,\n",
    "    )\n",
    "\n",
    "    # load validation data in batches\n",
    "    valid_loader = torch.utils.data.DataLoader(\n",
    "        train_data,\n",
    "        batch_size=batch_size,\n",
    "        sampler=valid_sampler,\n",
    "        num_workers=num_workers,\n",
    "    )\n",
    "\n",
    "    # load test data in batches\n",
    "    test_loader = torch.utils.data.DataLoader(\n",
    "        test_data, batch_size=batch_size, num_workers=num_workers\n",
    "    )\n",
    "\n",
    "    return train_loader, test_loader, valid_loader"
   ]
  },
  {
   "cell_type": "markdown",
   "metadata": {},
   "source": [
    "### Data visalization"
   ]
  },
  {
   "cell_type": "code",
   "execution_count": 5,
   "metadata": {},
   "outputs": [],
   "source": [
    "## Visualize data\n",
    "def plot_dataset(data_loader):\n",
    "    dataiter = iter(data_loader)\n",
    "    images, labels = next(dataiter)\n",
    "    images = images.numpy()\n",
    "\n",
    "    fig = plt.figure(figsize=(25, 4))\n",
    "    for idx in np.arange(20):\n",
    "        ax = fig.add_subplot(2, 10, idx + 1, xticks=[], yticks=[])\n",
    "        ax.imshow(np.squeeze(images[idx]), cmap='gray')\n",
    "        # print out the correct label for each image\n",
    "        ax.set_title(str(labels[idx].item()))\n",
    "\n",
    "    plt.show()  "
   ]
  },
  {
   "cell_type": "code",
   "execution_count": 6,
   "metadata": {},
   "outputs": [],
   "source": [
    "def plot_single_data(data_loader):\n",
    "    dataiter = iter(data_loader)\n",
    "    images, _ = next(dataiter)\n",
    "    images = images.numpy()\n",
    "    img = np.squeeze(images[1])\n",
    "\n",
    "    fig = plt.figure(figsize = (12,12)) \n",
    "    ax = fig.add_subplot(111)\n",
    "    ax.imshow(img, cmap='gray')\n",
    "    width, height = img.shape\n",
    "    thresh = img.max()/2.5\n",
    "    for x in range(width):\n",
    "        for y in range(height):\n",
    "            val = round(img[x][y],2) if img[x][y] !=0 else 0\n",
    "            ax.annotate(str(val), xy=(y,x),\n",
    "                        horizontalalignment='center',\n",
    "                        verticalalignment='center',\n",
    "                        color='white' if img[x][y]<thresh else 'black')"
   ]
  },
  {
   "cell_type": "code",
   "execution_count": 7,
   "metadata": {},
   "outputs": [],
   "source": [
    "def plot_confusion_matrix(confusion_matrix):\n",
    "\n",
    "    # Convert to numpy array\n",
    "    confusion_matrix = confusion_matrix.numpy()\n",
    "\n",
    "    # Create a figure and axis to plot the confusion matrix\n",
    "    plt.figure(figsize=(8, 6))\n",
    "    plt.imshow(confusion_matrix, interpolation='nearest', cmap=plt.cm.Blues)\n",
    "    plt.title('Confusion Matrix')\n",
    "    plt.colorbar()\n",
    "\n",
    "    # Define the class labels for MNIST (digits 0-9)\n",
    "    classes = [str(i) for i in range(10)]\n",
    "\n",
    "    # Set ticks for the axes\n",
    "    tick_marks = np.arange(len(classes))\n",
    "    plt.xticks(tick_marks, classes, rotation=45)\n",
    "    plt.yticks(tick_marks, classes)\n",
    "\n",
    "    # Add labels and values in each cell\n",
    "    thresh = confusion_matrix.max() / 2\n",
    "    for i, j in itertools.product(range(confusion_matrix.shape[0]), range(confusion_matrix.shape[1])):\n",
    "        plt.text(j, i, format(confusion_matrix[i, j], '.0f'),\n",
    "                horizontalalignment=\"center\",\n",
    "                color=\"white\" if confusion_matrix[i, j] > thresh else \"black\")\n",
    "\n",
    "    plt.ylabel('True Label')\n",
    "    plt.xlabel('Predicted Label')\n",
    "    plt.tight_layout()\n",
    "    plt.show()"
   ]
  },
  {
   "cell_type": "code",
   "execution_count": 8,
   "metadata": {},
   "outputs": [],
   "source": [
    "def plot_loss(train_loss, valid_loss):\n",
    "    # visualize the loss as the network trained\n",
    "    fig = plt.figure(figsize=(10,8))\n",
    "    plt.plot(range(1,len(train_loss)+1),train_loss, label='Training Loss')\n",
    "    plt.plot(range(1,len(valid_loss)+1),valid_loss,label='Validation Loss')\n",
    "\n",
    "    # find position of lowest validation loss\n",
    "    minposs = valid_loss.index(min(valid_loss))+1 \n",
    "    plt.axvline(minposs, linestyle='--', color='r',label='Early Stopping Checkpoint')\n",
    "\n",
    "    plt.xlabel('epochs')\n",
    "    plt.ylabel('loss')\n",
    "    plt.ylim(0, 0.5) # consistent scale\n",
    "    plt.xlim(0, len(train_loss)+1) # consistent scale\n",
    "    plt.grid(True)\n",
    "    plt.legend()\n",
    "    plt.tight_layout()\n",
    "    plt.show()\n",
    "    fig.savefig('loss_plot.png', bbox_inches='tight')"
   ]
  },
  {
   "cell_type": "code",
   "execution_count": 9,
   "metadata": {},
   "outputs": [
    {
     "data": {
      "image/png": "[encoded data removed]",
      "text/plain": [
       "<Figure size 2500x400 with 20 Axes>"
      ]
     },
     "metadata": {},
     "output_type": "display_data"
    }
   ],
   "source": [
    "train_loader, test_loader, valid_loader = get_dataloader(batch_size=BATCH_SIZE, num_workers=NUM_WORKERS)\n",
    "plot_dataset(train_loader)"
   ]
  },
  {
   "cell_type": "code",
   "execution_count": 10,
   "metadata": {},
   "outputs": [
    {
     "data": {
      "image/png": "[encoded data removed]",
      "text/plain": [
       "<Figure size 1200x1200 with 1 Axes>"
      ]
     },
     "metadata": {},
     "output_type": "display_data"
    }
   ],
   "source": [
    "plot_single_data(train_loader)"
   ]
  },
  {
   "cell_type": "markdown",
   "metadata": {},
   "source": [
    "### Simple CNN architecture"
   ]
  },
  {
   "cell_type": "code",
   "execution_count": 11,
   "metadata": {},
   "outputs": [],
   "source": [
    "class CNNNet(nn.Module):\n",
    "    def __init__(self, in_channels =1, num_classes=10):\n",
    "        super(CNNNet, self).__init__()\n",
    "        self.conv1 = nn.Conv2d(in_channels, out_channels= 8, kernel_size=(3,3),stride=(1,1), padding=(1,1))\n",
    "        self.pool = nn.MaxPool2d(kernel_size=(2,2), stride=(2,2))\n",
    "        self.conv2 = nn.Conv2d(in_channels = 8, out_channels= 16, kernel_size=(3,3),stride=(1,1), padding=(1,1))\n",
    "        self.fc1 = nn.Linear(16*7*7, num_classes)\n",
    "    \n",
    "    def forward(self,x):\n",
    "        x = F.relu(self.conv1(x))\n",
    "        x = self.pool(x)\n",
    "        x = F.relu(self.conv2(x))\n",
    "        x = self.pool(x)\n",
    "        x = x.reshape(x.shape[0], -1)\n",
    "        x = self.fc1(x)\n",
    "\n",
    "        return x"
   ]
  },
  {
   "cell_type": "markdown",
   "metadata": {},
   "source": [
    "### Utils section"
   ]
  },
  {
   "cell_type": "code",
   "execution_count": 12,
   "metadata": {},
   "outputs": [],
   "source": [
    "def calculate_accuracy(outputs, labels):\n",
    "    _, preds = torch.max(outputs, 1)\n",
    "    correct = torch.sum(preds == labels).item()\n",
    "    total = labels.size(0)\n",
    "    accuracy= correct / total\n",
    "    return accuracy , correct, total"
   ]
  },
  {
   "cell_type": "code",
   "execution_count": 13,
   "metadata": {},
   "outputs": [],
   "source": [
    "def precision_recall_f1(outputs, labels, num_classes=10):\n",
    "    TP = torch.zeros(num_classes)\n",
    "    FP = torch.zeros(num_classes)\n",
    "    FN = torch.zeros(num_classes)\n",
    "    \n",
    "    _, preds = torch.max(outputs, 1)\n",
    "    \n",
    "    for i in range(num_classes):\n",
    "        TP[i] = torch.sum((preds == i) & (labels == i)).item()\n",
    "        FP[i] = torch.sum((preds == i) & (labels != i)).item()\n",
    "        FN[i] = torch.sum((preds != i) & (labels == i)).item()\n",
    "\n",
    "    precision = TP / (TP + FP + 1e-10)\n",
    "    recall = TP / (TP + FN + 1e-10)\n",
    "    f1 = 2 * (precision * recall) / (precision + recall + 1e-10)\n",
    "    \n",
    "    avg_precision = precision.mean().item()\n",
    "    avg_recall = recall.mean().item()\n",
    "    avg_f1 = f1.mean().item()\n",
    "    \n",
    "    return avg_precision, avg_recall, avg_f1"
   ]
  },
  {
   "cell_type": "code",
   "execution_count": 14,
   "metadata": {},
   "outputs": [],
   "source": [
    "def confusion_matrix(outputs, labels, num_classes=10):\n",
    "    _, preds = torch.max(outputs, 1)\n",
    "    cm = torch.zeros(num_classes, num_classes)\n",
    "    \n",
    "    for t, p in zip(labels.view(-1), preds.view(-1)):\n",
    "        cm[t.long(), p.long()] += 1\n",
    "    \n",
    "    return cm"
   ]
  },
  {
   "cell_type": "markdown",
   "metadata": {},
   "source": [
    "#### Saving and Loading Model"
   ]
  },
  {
   "cell_type": "code",
   "execution_count": 15,
   "metadata": {},
   "outputs": [],
   "source": [
    "def save_checkpoint(filepath, model, optimizer, train_acc, train_loss, epoch):\n",
    "    save_state = {\n",
    "        \"state_dict\": model.state_dict(),\n",
    "        \"epoch\": epoch,\n",
    "        \"optimizer\": optimizer.state_dict(),\n",
    "        \"loss\": train_loss,\n",
    "        \"acc\": train_acc,\n",
    "    }\n",
    "    print()\n",
    "    print(\"Saving current parameters\")\n",
    "    print(\"___________________________________________________________\")\n",
    "\n",
    "    torch.save(save_state, filepath)"
   ]
  },
  {
   "cell_type": "code",
   "execution_count": 16,
   "metadata": {},
   "outputs": [],
   "source": [
    "def load_model(filepath, model, optimizer):\n",
    "    start_epoch = 1  # Initialize start_epoch to 1\n",
    "    best_acc = 0.0   # Initialize best accuracy to 0\n",
    "    valid_loss_min = np.Inf  # Initialize the best validation loss to infinity\n",
    "    \n",
    "    if filepath and os.path.isfile(filepath):\n",
    "           \n",
    "        print(\"=> loading checkpoint\")\n",
    "        checkpoint = torch.load(filepath)\n",
    "        start_epoch = checkpoint[\"epoch\"]\n",
    "        best_acc = checkpoint[\"acc\"]\n",
    "        valid_loss_min = checkpoint[\"loss\"]\n",
    "        model.load_state_dict(checkpoint[\"state_dict\"])\n",
    "        optimizer.load_state_dict(checkpoint[\"optimizer\"])\n",
    "        print(\n",
    "            \"=> loaded checkpoint (epoch {})\".format(\n",
    "                checkpoint[\"epoch\"]\n",
    "            )\n",
    "        )\n",
    "    else:\n",
    "        print(\"No pretrained model. Starting from scratch!\")\n",
    "    \n",
    "    return model, optimizer, start_epoch, best_acc, valid_loss_min"
   ]
  },
  {
   "cell_type": "code",
   "execution_count": 17,
   "metadata": {},
   "outputs": [],
   "source": [
    "def check_accuracy(model, device, test_loader, criterion):\n",
    "    model.eval()  # Set the model to evaluation mode\n",
    "    correct = 0\n",
    "    total = 0\n",
    "    all_outputs = []\n",
    "    all_labels = []\n",
    "    valid_loss = 0.0\n",
    "    n=len(test_loader)\n",
    "\n",
    "    with torch.no_grad():\n",
    "        for data, target in test_loader:\n",
    "            data, target = data.to(device), target.to(device)\n",
    "            outputs = model(data)\n",
    "\n",
    "            loss = criterion(outputs, target)\n",
    "            valid_loss += loss.item()\n",
    "\n",
    "            # Accumulate predictions and labels\n",
    "            all_outputs.append(outputs)\n",
    "            all_labels.append(target)\n",
    "\n",
    "            # Calculate accuracy for the current batch\n",
    "            correct += (outputs.argmax(1) == target).sum().item()\n",
    "            total += target.size(0)\n",
    "\n",
    "    # Convert list of tensors to single tensor\n",
    "    all_outputs = torch.cat(all_outputs)\n",
    "    all_labels = torch.cat(all_labels)\n",
    "\n",
    "    # Accuracy\n",
    "    acc = correct / total\n",
    "    # print(f'Accuracy: {acc * 100:.2f}%')\n",
    "\n",
    "    # Precision, Recall, F1-Score\n",
    "    precision, recall, f1 = precision_recall_f1(all_outputs, all_labels, num_classes=10)\n",
    "    # print(f'Precision: {precision:.4f}, Recall: {recall:.4f}, F1-Score: {f1:.4f}')\n",
    "\n",
    "    # Confusion Matrix\n",
    "    cm = confusion_matrix(all_outputs, all_labels, num_classes=10)\n",
    "    # print(f'Confusion Matrix:\\n{cm}')\n",
    "\n",
    "    valid_loss=valid_loss/n \n",
    "\n",
    "    return acc, precision, recall, f1, cm, valid_loss"
   ]
  },
  {
   "cell_type": "markdown",
   "metadata": {},
   "source": [
    "### Loss Function and Optimizer"
   ]
  },
  {
   "cell_type": "code",
   "execution_count": 18,
   "metadata": {},
   "outputs": [],
   "source": [
    "model= CNNNet().to(device)\n",
    "criterion = nn.CrossEntropyLoss()\n",
    "optimizer = torch.optim.SGD(model.parameters(), lr=LEARNING_RATE)"
   ]
  },
  {
   "cell_type": "markdown",
   "metadata": {},
   "source": [
    "### Train Network"
   ]
  },
  {
   "cell_type": "code",
   "execution_count": 19,
   "metadata": {},
   "outputs": [],
   "source": [
    "def train_network(model, optimizer, n_epochs, train_loader, valid_loader, filepath=CHECKPOINT_PATH):\n",
    "\n",
    "    train_loss = 0.0\n",
    "    avg_train_losses = []\n",
    "    avg_valid_losses = []\n",
    "    avg_train_acc = []\n",
    "    avg_valid_acc = []\n",
    "    total=len(train_loader)\n",
    "\n",
    "    model, optimizer, start_epoch, best_acc, valid_loss_min = load_model(filepath=filepath, model=model, optimizer=optimizer)\n",
    "\n",
    "    for epoch in range(start_epoch, n_epochs + 1):\n",
    "\n",
    "        model.train()\n",
    "        correct_train = 0\n",
    "        total_train = 0\n",
    "        \n",
    "        for batch, (data, target) in enumerate(tqdm(train_loader), 1):\n",
    "\n",
    "            optimizer.zero_grad()\n",
    "            output = model(data)\n",
    "\n",
    "            loss = criterion(output, target)  # calculate the loss\n",
    "\n",
    "            loss.backward()  # backward pass: compute gradient of the loss with respect to model parameters\n",
    "\n",
    "            optimizer.step()  # perform a single optimization step (parameter update)\n",
    "\n",
    "            # record training loss\n",
    "            train_loss+=loss.item()\n",
    "\n",
    "            # Calculate training accuracy\n",
    "            _, correct_batch, total_batch = calculate_accuracy(output, target)\n",
    "            correct_train += correct_batch\n",
    "            total_train += total_batch\n",
    "\n",
    "        # validate the model\n",
    "        valid_accuracy, precision, recall, f1, cm, valid_loss = check_accuracy(model=model, device=device, test_loader=valid_loader, criterion=criterion)\n",
    "        \n",
    "\n",
    "        # calculate average loss, accuracy over an epoch\n",
    "        train_loss = train_loss/total\n",
    "\n",
    "\n",
    "        avg_train_losses.append(train_loss)\n",
    "        avg_valid_losses.append(valid_loss)\n",
    "\n",
    "         # Calculate and store training accuracy\n",
    "        train_accuracy = 100 * correct_train / total_train\n",
    "        avg_train_acc.append(train_accuracy)\n",
    "\n",
    "        # Calculate and store validation accuracy\n",
    "        avg_valid_acc.append(valid_accuracy)\n",
    "       \n",
    "\n",
    "        epoch_len = len(str(n_epochs))\n",
    "\n",
    "        print_msg = (f\"[{epoch:>{epoch_len}}/{n_epochs:>{epoch_len}}] \"\n",
    "                     f\"train_loss: {train_loss:.5f} \"\n",
    "                     f\"train_acc: {train_accuracy:.2f}% \"\n",
    "                     f\"valid_loss: {valid_loss:.5f} \"\n",
    "                     f\"valid_acc: {valid_accuracy:.2f}%\")\n",
    "\n",
    "        print(print_msg)\n",
    "\n",
    "        # save model if validation loss has decreased\n",
    "        if valid_loss <= valid_loss_min:\n",
    "            print(\n",
    "                \"Validation loss decreased ({:.6f} --> {:.6f}).  Saving model ...\".format(\n",
    "                    valid_loss_min, valid_loss\n",
    "                )\n",
    "            )\n",
    "            save_checkpoint(filepath=filepath,model=model, optimizer=optimizer,train_acc=valid_accuracy, train_loss=valid_loss, epoch=epoch)\n",
    "            valid_loss_min = valid_loss\n",
    "\n",
    "    return model, avg_train_losses, avg_valid_losses"
   ]
  },
  {
   "cell_type": "code",
   "execution_count": 20,
   "metadata": {},
   "outputs": [
    {
     "name": "stdout",
     "output_type": "stream",
     "text": [
      "=> loading checkpoint\n",
      "=> loaded checkpoint (epoch 3)\n"
     ]
    },
    {
     "name": "stderr",
     "output_type": "stream",
     "text": [
      "100%|██████████| 750/750 [00:22<00:00, 33.63it/s]\n"
     ]
    },
    {
     "name": "stdout",
     "output_type": "stream",
     "text": [
      "[ 3/50] train_loss: 0.15390 train_acc: 95.61% valid_loss: 0.15957 valid_acc: 0.95%\n"
     ]
    },
    {
     "name": "stderr",
     "output_type": "stream",
     "text": [
      "100%|██████████| 750/750 [00:14<00:00, 50.06it/s]\n"
     ]
    },
    {
     "name": "stdout",
     "output_type": "stream",
     "text": [
      "[ 4/50] train_loss: 0.15167 train_acc: 95.65% valid_loss: 0.15590 valid_acc: 0.95%\n",
      "Validation loss decreased (0.157551 --> 0.155900).  Saving model ...\n",
      "\n",
      "Saving current parameters\n",
      "___________________________________________________________\n"
     ]
    },
    {
     "name": "stderr",
     "output_type": "stream",
     "text": [
      "100%|██████████| 750/750 [00:31<00:00, 24.12it/s]\n"
     ]
    },
    {
     "name": "stdout",
     "output_type": "stream",
     "text": [
      "[ 5/50] train_loss: 0.14926 train_acc: 95.74% valid_loss: 0.15472 valid_acc: 0.96%\n",
      "Validation loss decreased (0.155900 --> 0.154716).  Saving model ...\n",
      "\n",
      "Saving current parameters\n",
      "___________________________________________________________\n"
     ]
    },
    {
     "name": "stderr",
     "output_type": "stream",
     "text": [
      "100%|██████████| 750/750 [00:20<00:00, 36.90it/s]\n"
     ]
    },
    {
     "name": "stdout",
     "output_type": "stream",
     "text": [
      "[ 6/50] train_loss: 0.14681 train_acc: 95.79% valid_loss: 0.15189 valid_acc: 0.96%\n",
      "Validation loss decreased (0.154716 --> 0.151888).  Saving model ...\n",
      "\n",
      "Saving current parameters\n",
      "___________________________________________________________\n"
     ]
    },
    {
     "name": "stderr",
     "output_type": "stream",
     "text": [
      "100%|██████████| 750/750 [00:14<00:00, 51.03it/s]\n"
     ]
    },
    {
     "name": "stdout",
     "output_type": "stream",
     "text": [
      "[ 7/50] train_loss: 0.14458 train_acc: 95.86% valid_loss: 0.15032 valid_acc: 0.96%\n",
      "Validation loss decreased (0.151888 --> 0.150317).  Saving model ...\n",
      "\n",
      "Saving current parameters\n",
      "___________________________________________________________\n"
     ]
    },
    {
     "name": "stderr",
     "output_type": "stream",
     "text": [
      "100%|██████████| 750/750 [00:18<00:00, 40.21it/s]\n"
     ]
    },
    {
     "name": "stdout",
     "output_type": "stream",
     "text": [
      "[ 8/50] train_loss: 0.14230 train_acc: 95.93% valid_loss: 0.14842 valid_acc: 0.96%\n",
      "Validation loss decreased (0.150317 --> 0.148417).  Saving model ...\n",
      "\n",
      "Saving current parameters\n",
      "___________________________________________________________\n"
     ]
    },
    {
     "name": "stderr",
     "output_type": "stream",
     "text": [
      "100%|██████████| 750/750 [00:27<00:00, 27.38it/s]\n"
     ]
    },
    {
     "name": "stdout",
     "output_type": "stream",
     "text": [
      "[ 9/50] train_loss: 0.14024 train_acc: 96.00% valid_loss: 0.14695 valid_acc: 0.96%\n",
      "Validation loss decreased (0.148417 --> 0.146946).  Saving model ...\n",
      "\n",
      "Saving current parameters\n",
      "___________________________________________________________\n"
     ]
    },
    {
     "name": "stderr",
     "output_type": "stream",
     "text": [
      "100%|██████████| 750/750 [00:27<00:00, 27.73it/s]\n"
     ]
    },
    {
     "name": "stdout",
     "output_type": "stream",
     "text": [
      "[10/50] train_loss: 0.13829 train_acc: 96.05% valid_loss: 0.14445 valid_acc: 0.96%\n",
      "Validation loss decreased (0.146946 --> 0.144452).  Saving model ...\n",
      "\n",
      "Saving current parameters\n",
      "___________________________________________________________\n"
     ]
    },
    {
     "name": "stderr",
     "output_type": "stream",
     "text": [
      "100%|██████████| 750/750 [00:18<00:00, 39.66it/s]\n"
     ]
    },
    {
     "name": "stdout",
     "output_type": "stream",
     "text": [
      "[11/50] train_loss: 0.13613 train_acc: 96.07% valid_loss: 0.14206 valid_acc: 0.96%\n",
      "Validation loss decreased (0.144452 --> 0.142060).  Saving model ...\n",
      "\n",
      "Saving current parameters\n",
      "___________________________________________________________\n"
     ]
    },
    {
     "name": "stderr",
     "output_type": "stream",
     "text": [
      "100%|██████████| 750/750 [00:13<00:00, 53.80it/s]\n"
     ]
    },
    {
     "name": "stdout",
     "output_type": "stream",
     "text": [
      "[12/50] train_loss: 0.13422 train_acc: 96.11% valid_loss: 0.14070 valid_acc: 0.96%\n",
      "Validation loss decreased (0.142060 --> 0.140704).  Saving model ...\n",
      "\n",
      "Saving current parameters\n",
      "___________________________________________________________\n"
     ]
    },
    {
     "name": "stderr",
     "output_type": "stream",
     "text": [
      "100%|██████████| 750/750 [00:22<00:00, 34.09it/s]\n"
     ]
    },
    {
     "name": "stdout",
     "output_type": "stream",
     "text": [
      "[13/50] train_loss: 0.13229 train_acc: 96.22% valid_loss: 0.14130 valid_acc: 0.96%\n"
     ]
    },
    {
     "name": "stderr",
     "output_type": "stream",
     "text": [
      "100%|██████████| 750/750 [00:34<00:00, 22.00it/s]\n"
     ]
    },
    {
     "name": "stdout",
     "output_type": "stream",
     "text": [
      "[14/50] train_loss: 0.13075 train_acc: 96.23% valid_loss: 0.13726 valid_acc: 0.96%\n",
      "Validation loss decreased (0.140704 --> 0.137262).  Saving model ...\n",
      "\n",
      "Saving current parameters\n",
      "___________________________________________________________\n"
     ]
    },
    {
     "name": "stderr",
     "output_type": "stream",
     "text": [
      "100%|██████████| 750/750 [00:16<00:00, 46.03it/s]\n"
     ]
    },
    {
     "name": "stdout",
     "output_type": "stream",
     "text": [
      "[15/50] train_loss: 0.12903 train_acc: 96.26% valid_loss: 0.13540 valid_acc: 0.96%\n",
      "Validation loss decreased (0.137262 --> 0.135398).  Saving model ...\n",
      "\n",
      "Saving current parameters\n",
      "___________________________________________________________\n"
     ]
    },
    {
     "name": "stderr",
     "output_type": "stream",
     "text": [
      "100%|██████████| 750/750 [00:14<00:00, 50.75it/s]\n"
     ]
    },
    {
     "name": "stdout",
     "output_type": "stream",
     "text": [
      "[16/50] train_loss: 0.12729 train_acc: 96.33% valid_loss: 0.13505 valid_acc: 0.96%\n",
      "Validation loss decreased (0.135398 --> 0.135048).  Saving model ...\n",
      "\n",
      "Saving current parameters\n",
      "___________________________________________________________\n"
     ]
    },
    {
     "name": "stderr",
     "output_type": "stream",
     "text": [
      "100%|██████████| 750/750 [00:17<00:00, 44.04it/s]\n"
     ]
    },
    {
     "name": "stdout",
     "output_type": "stream",
     "text": [
      "[17/50] train_loss: 0.12570 train_acc: 96.38% valid_loss: 0.13227 valid_acc: 0.96%\n",
      "Validation loss decreased (0.135048 --> 0.132265).  Saving model ...\n",
      "\n",
      "Saving current parameters\n",
      "___________________________________________________________\n"
     ]
    },
    {
     "name": "stderr",
     "output_type": "stream",
     "text": [
      "100%|██████████| 750/750 [00:34<00:00, 21.75it/s]\n"
     ]
    },
    {
     "name": "stdout",
     "output_type": "stream",
     "text": [
      "[18/50] train_loss: 0.12406 train_acc: 96.47% valid_loss: 0.13020 valid_acc: 0.96%\n",
      "Validation loss decreased (0.132265 --> 0.130203).  Saving model ...\n",
      "\n",
      "Saving current parameters\n",
      "___________________________________________________________\n"
     ]
    },
    {
     "name": "stderr",
     "output_type": "stream",
     "text": [
      "100%|██████████| 750/750 [00:20<00:00, 36.22it/s]\n"
     ]
    },
    {
     "name": "stdout",
     "output_type": "stream",
     "text": [
      "[19/50] train_loss: 0.12264 train_acc: 96.51% valid_loss: 0.12963 valid_acc: 0.96%\n",
      "Validation loss decreased (0.130203 --> 0.129629).  Saving model ...\n",
      "\n",
      "Saving current parameters\n",
      "___________________________________________________________\n"
     ]
    },
    {
     "name": "stderr",
     "output_type": "stream",
     "text": [
      "100%|██████████| 750/750 [00:13<00:00, 54.83it/s]\n"
     ]
    },
    {
     "name": "stdout",
     "output_type": "stream",
     "text": [
      "[20/50] train_loss: 0.12122 train_acc: 96.52% valid_loss: 0.12716 valid_acc: 0.96%\n",
      "Validation loss decreased (0.129629 --> 0.127158).  Saving model ...\n",
      "\n",
      "Saving current parameters\n",
      "___________________________________________________________\n"
     ]
    },
    {
     "name": "stderr",
     "output_type": "stream",
     "text": [
      "100%|██████████| 750/750 [00:15<00:00, 48.22it/s]\n"
     ]
    },
    {
     "name": "stdout",
     "output_type": "stream",
     "text": [
      "[21/50] train_loss: 0.11958 train_acc: 96.56% valid_loss: 0.12607 valid_acc: 0.96%\n",
      "Validation loss decreased (0.127158 --> 0.126073).  Saving model ...\n",
      "\n",
      "Saving current parameters\n",
      "___________________________________________________________\n"
     ]
    },
    {
     "name": "stderr",
     "output_type": "stream",
     "text": [
      "100%|██████████| 750/750 [00:15<00:00, 49.02it/s]\n"
     ]
    },
    {
     "name": "stdout",
     "output_type": "stream",
     "text": [
      "[22/50] train_loss: 0.11829 train_acc: 96.62% valid_loss: 0.12565 valid_acc: 0.96%\n",
      "Validation loss decreased (0.126073 --> 0.125646).  Saving model ...\n",
      "\n",
      "Saving current parameters\n",
      "___________________________________________________________\n"
     ]
    },
    {
     "name": "stderr",
     "output_type": "stream",
     "text": [
      "100%|██████████| 750/750 [00:33<00:00, 22.26it/s]\n"
     ]
    },
    {
     "name": "stdout",
     "output_type": "stream",
     "text": [
      "[23/50] train_loss: 0.11692 train_acc: 96.62% valid_loss: 0.12340 valid_acc: 0.96%\n",
      "Validation loss decreased (0.125646 --> 0.123397).  Saving model ...\n",
      "\n",
      "Saving current parameters\n",
      "___________________________________________________________\n"
     ]
    },
    {
     "name": "stderr",
     "output_type": "stream",
     "text": [
      "100%|██████████| 750/750 [00:18<00:00, 40.80it/s]\n"
     ]
    },
    {
     "name": "stdout",
     "output_type": "stream",
     "text": [
      "[24/50] train_loss: 0.11565 train_acc: 96.68% valid_loss: 0.12201 valid_acc: 0.97%\n",
      "Validation loss decreased (0.123397 --> 0.122009).  Saving model ...\n",
      "\n",
      "Saving current parameters\n",
      "___________________________________________________________\n"
     ]
    },
    {
     "name": "stderr",
     "output_type": "stream",
     "text": [
      "100%|██████████| 750/750 [00:13<00:00, 56.26it/s]\n"
     ]
    },
    {
     "name": "stdout",
     "output_type": "stream",
     "text": [
      "[25/50] train_loss: 0.11423 train_acc: 96.74% valid_loss: 0.12174 valid_acc: 0.96%\n",
      "Validation loss decreased (0.122009 --> 0.121744).  Saving model ...\n",
      "\n",
      "Saving current parameters\n",
      "___________________________________________________________\n"
     ]
    },
    {
     "name": "stderr",
     "output_type": "stream",
     "text": [
      "100%|██████████| 750/750 [00:18<00:00, 41.12it/s]\n"
     ]
    },
    {
     "name": "stdout",
     "output_type": "stream",
     "text": [
      "[26/50] train_loss: 0.11321 train_acc: 96.78% valid_loss: 0.12062 valid_acc: 0.96%\n",
      "Validation loss decreased (0.121744 --> 0.120622).  Saving model ...\n",
      "\n",
      "Saving current parameters\n",
      "___________________________________________________________\n"
     ]
    },
    {
     "name": "stderr",
     "output_type": "stream",
     "text": [
      "100%|██████████| 750/750 [00:15<00:00, 49.80it/s]\n"
     ]
    },
    {
     "name": "stdout",
     "output_type": "stream",
     "text": [
      "[27/50] train_loss: 0.11213 train_acc: 96.77% valid_loss: 0.11850 valid_acc: 0.96%\n",
      "Validation loss decreased (0.120622 --> 0.118497).  Saving model ...\n",
      "\n",
      "Saving current parameters\n",
      "___________________________________________________________\n"
     ]
    },
    {
     "name": "stderr",
     "output_type": "stream",
     "text": [
      "100%|██████████| 750/750 [00:33<00:00, 22.22it/s]\n"
     ]
    },
    {
     "name": "stdout",
     "output_type": "stream",
     "text": [
      "[28/50] train_loss: 0.11078 train_acc: 96.84% valid_loss: 0.11730 valid_acc: 0.97%\n",
      "Validation loss decreased (0.118497 --> 0.117305).  Saving model ...\n",
      "\n",
      "Saving current parameters\n",
      "___________________________________________________________\n"
     ]
    },
    {
     "name": "stderr",
     "output_type": "stream",
     "text": [
      "100%|██████████| 750/750 [00:16<00:00, 44.30it/s]\n"
     ]
    },
    {
     "name": "stdout",
     "output_type": "stream",
     "text": [
      "[29/50] train_loss: 0.10958 train_acc: 96.91% valid_loss: 0.11619 valid_acc: 0.97%\n",
      "Validation loss decreased (0.117305 --> 0.116192).  Saving model ...\n",
      "\n",
      "Saving current parameters\n",
      "___________________________________________________________\n"
     ]
    },
    {
     "name": "stderr",
     "output_type": "stream",
     "text": [
      "100%|██████████| 750/750 [00:15<00:00, 47.90it/s]\n"
     ]
    },
    {
     "name": "stdout",
     "output_type": "stream",
     "text": [
      "[30/50] train_loss: 0.10847 train_acc: 96.90% valid_loss: 0.11520 valid_acc: 0.97%\n",
      "Validation loss decreased (0.116192 --> 0.115204).  Saving model ...\n",
      "\n",
      "Saving current parameters\n",
      "___________________________________________________________\n"
     ]
    },
    {
     "name": "stderr",
     "output_type": "stream",
     "text": [
      "100%|██████████| 750/750 [00:18<00:00, 39.63it/s]\n"
     ]
    },
    {
     "name": "stdout",
     "output_type": "stream",
     "text": [
      "[31/50] train_loss: 0.10734 train_acc: 96.95% valid_loss: 0.11432 valid_acc: 0.97%\n",
      "Validation loss decreased (0.115204 --> 0.114319).  Saving model ...\n",
      "\n",
      "Saving current parameters\n",
      "___________________________________________________________\n"
     ]
    },
    {
     "name": "stderr",
     "output_type": "stream",
     "text": [
      "100%|██████████| 750/750 [00:20<00:00, 36.01it/s]\n"
     ]
    },
    {
     "name": "stdout",
     "output_type": "stream",
     "text": [
      "[32/50] train_loss: 0.10641 train_acc: 96.98% valid_loss: 0.11453 valid_acc: 0.97%\n"
     ]
    },
    {
     "name": "stderr",
     "output_type": "stream",
     "text": [
      "100%|██████████| 750/750 [00:31<00:00, 23.78it/s]\n"
     ]
    },
    {
     "name": "stdout",
     "output_type": "stream",
     "text": [
      "[33/50] train_loss: 0.10522 train_acc: 97.02% valid_loss: 0.11339 valid_acc: 0.97%\n",
      "Validation loss decreased (0.114319 --> 0.113394).  Saving model ...\n",
      "\n",
      "Saving current parameters\n",
      "___________________________________________________________\n"
     ]
    },
    {
     "name": "stderr",
     "output_type": "stream",
     "text": [
      "100%|██████████| 750/750 [00:16<00:00, 44.23it/s]\n"
     ]
    },
    {
     "name": "stdout",
     "output_type": "stream",
     "text": [
      "[34/50] train_loss: 0.10438 train_acc: 97.01% valid_loss: 0.11307 valid_acc: 0.97%\n",
      "Validation loss decreased (0.113394 --> 0.113068).  Saving model ...\n",
      "\n",
      "Saving current parameters\n",
      "___________________________________________________________\n"
     ]
    },
    {
     "name": "stderr",
     "output_type": "stream",
     "text": [
      "100%|██████████| 750/750 [00:14<00:00, 52.89it/s]\n"
     ]
    },
    {
     "name": "stdout",
     "output_type": "stream",
     "text": [
      "[35/50] train_loss: 0.10338 train_acc: 97.07% valid_loss: 0.11118 valid_acc: 0.97%\n",
      "Validation loss decreased (0.113068 --> 0.111176).  Saving model ...\n",
      "\n",
      "Saving current parameters\n",
      "___________________________________________________________\n"
     ]
    },
    {
     "name": "stderr",
     "output_type": "stream",
     "text": [
      "100%|██████████| 750/750 [00:14<00:00, 53.53it/s]\n"
     ]
    },
    {
     "name": "stdout",
     "output_type": "stream",
     "text": [
      "[36/50] train_loss: 0.10243 train_acc: 97.11% valid_loss: 0.10983 valid_acc: 0.97%\n",
      "Validation loss decreased (0.111176 --> 0.109827).  Saving model ...\n",
      "\n",
      "Saving current parameters\n",
      "___________________________________________________________\n"
     ]
    },
    {
     "name": "stderr",
     "output_type": "stream",
     "text": [
      "100%|██████████| 750/750 [00:23<00:00, 31.96it/s]\n"
     ]
    },
    {
     "name": "stdout",
     "output_type": "stream",
     "text": [
      "[37/50] train_loss: 0.10140 train_acc: 97.12% valid_loss: 0.11025 valid_acc: 0.97%\n"
     ]
    },
    {
     "name": "stderr",
     "output_type": "stream",
     "text": [
      "100%|██████████| 750/750 [00:29<00:00, 25.26it/s]\n"
     ]
    },
    {
     "name": "stdout",
     "output_type": "stream",
     "text": [
      "[38/50] train_loss: 0.10062 train_acc: 97.14% valid_loss: 0.10873 valid_acc: 0.97%\n",
      "Validation loss decreased (0.109827 --> 0.108728).  Saving model ...\n",
      "\n",
      "Saving current parameters\n",
      "___________________________________________________________\n"
     ]
    },
    {
     "name": "stderr",
     "output_type": "stream",
     "text": [
      "100%|██████████| 750/750 [00:15<00:00, 47.26it/s]\n"
     ]
    },
    {
     "name": "stdout",
     "output_type": "stream",
     "text": [
      "[39/50] train_loss: 0.09956 train_acc: 97.17% valid_loss: 0.10783 valid_acc: 0.97%\n",
      "Validation loss decreased (0.108728 --> 0.107829).  Saving model ...\n",
      "\n",
      "Saving current parameters\n",
      "___________________________________________________________\n"
     ]
    },
    {
     "name": "stderr",
     "output_type": "stream",
     "text": [
      "100%|██████████| 750/750 [00:14<00:00, 52.20it/s]\n"
     ]
    },
    {
     "name": "stdout",
     "output_type": "stream",
     "text": [
      "[40/50] train_loss: 0.09894 train_acc: 97.20% valid_loss: 0.10864 valid_acc: 0.97%\n"
     ]
    },
    {
     "name": "stderr",
     "output_type": "stream",
     "text": [
      "100%|██████████| 750/750 [00:13<00:00, 53.93it/s]\n"
     ]
    },
    {
     "name": "stdout",
     "output_type": "stream",
     "text": [
      "[41/50] train_loss: 0.09778 train_acc: 97.19% valid_loss: 0.10672 valid_acc: 0.97%\n",
      "Validation loss decreased (0.107829 --> 0.106715).  Saving model ...\n",
      "\n",
      "Saving current parameters\n",
      "___________________________________________________________\n"
     ]
    },
    {
     "name": "stderr",
     "output_type": "stream",
     "text": [
      "100%|██████████| 750/750 [00:23<00:00, 31.54it/s]\n"
     ]
    },
    {
     "name": "stdout",
     "output_type": "stream",
     "text": [
      "[42/50] train_loss: 0.09715 train_acc: 97.21% valid_loss: 0.10439 valid_acc: 0.97%\n",
      "Validation loss decreased (0.106715 --> 0.104386).  Saving model ...\n",
      "\n",
      "Saving current parameters\n",
      "___________________________________________________________\n"
     ]
    },
    {
     "name": "stderr",
     "output_type": "stream",
     "text": [
      "100%|██████████| 750/750 [00:27<00:00, 27.01it/s]\n"
     ]
    },
    {
     "name": "stdout",
     "output_type": "stream",
     "text": [
      "[43/50] train_loss: 0.09650 train_acc: 97.23% valid_loss: 0.10331 valid_acc: 0.97%\n",
      "Validation loss decreased (0.104386 --> 0.103309).  Saving model ...\n",
      "\n",
      "Saving current parameters\n",
      "___________________________________________________________\n"
     ]
    },
    {
     "name": "stderr",
     "output_type": "stream",
     "text": [
      "100%|██████████| 750/750 [00:15<00:00, 49.84it/s]\n"
     ]
    },
    {
     "name": "stdout",
     "output_type": "stream",
     "text": [
      "[44/50] train_loss: 0.09545 train_acc: 97.29% valid_loss: 0.10270 valid_acc: 0.97%\n",
      "Validation loss decreased (0.103309 --> 0.102695).  Saving model ...\n",
      "\n",
      "Saving current parameters\n",
      "___________________________________________________________\n"
     ]
    },
    {
     "name": "stderr",
     "output_type": "stream",
     "text": [
      "100%|██████████| 750/750 [00:14<00:00, 50.11it/s]\n"
     ]
    },
    {
     "name": "stdout",
     "output_type": "stream",
     "text": [
      "[45/50] train_loss: 0.09487 train_acc: 97.30% valid_loss: 0.10192 valid_acc: 0.97%\n",
      "Validation loss decreased (0.102695 --> 0.101924).  Saving model ...\n",
      "\n",
      "Saving current parameters\n",
      "___________________________________________________________\n"
     ]
    },
    {
     "name": "stderr",
     "output_type": "stream",
     "text": [
      "100%|██████████| 750/750 [00:18<00:00, 41.36it/s]\n"
     ]
    },
    {
     "name": "stdout",
     "output_type": "stream",
     "text": [
      "[46/50] train_loss: 0.09404 train_acc: 97.30% valid_loss: 0.10247 valid_acc: 0.97%\n"
     ]
    },
    {
     "name": "stderr",
     "output_type": "stream",
     "text": [
      "100%|██████████| 750/750 [00:33<00:00, 22.71it/s]\n"
     ]
    },
    {
     "name": "stdout",
     "output_type": "stream",
     "text": [
      "[47/50] train_loss: 0.09348 train_acc: 97.34% valid_loss: 0.10148 valid_acc: 0.97%\n",
      "Validation loss decreased (0.101924 --> 0.101484).  Saving model ...\n",
      "\n",
      "Saving current parameters\n",
      "___________________________________________________________\n"
     ]
    },
    {
     "name": "stderr",
     "output_type": "stream",
     "text": [
      "100%|██████████| 750/750 [00:17<00:00, 43.13it/s]\n"
     ]
    },
    {
     "name": "stdout",
     "output_type": "stream",
     "text": [
      "[48/50] train_loss: 0.09259 train_acc: 97.39% valid_loss: 0.10176 valid_acc: 0.97%\n"
     ]
    },
    {
     "name": "stderr",
     "output_type": "stream",
     "text": [
      "100%|██████████| 750/750 [00:13<00:00, 53.67it/s]\n"
     ]
    },
    {
     "name": "stdout",
     "output_type": "stream",
     "text": [
      "[49/50] train_loss: 0.09205 train_acc: 97.37% valid_loss: 0.10094 valid_acc: 0.97%\n",
      "Validation loss decreased (0.101484 --> 0.100938).  Saving model ...\n",
      "\n",
      "Saving current parameters\n",
      "___________________________________________________________\n"
     ]
    },
    {
     "name": "stderr",
     "output_type": "stream",
     "text": [
      "100%|██████████| 750/750 [00:14<00:00, 52.21it/s]\n"
     ]
    },
    {
     "name": "stdout",
     "output_type": "stream",
     "text": [
      "[50/50] train_loss: 0.09123 train_acc: 97.42% valid_loss: 0.09971 valid_acc: 0.97%\n",
      "Validation loss decreased (0.100938 --> 0.099709).  Saving model ...\n",
      "\n",
      "Saving current parameters\n",
      "___________________________________________________________\n"
     ]
    }
   ],
   "source": [
    "model, train_loss, valid_loss = train_network(model, optimizer, NUM_EPOCHS, train_loader, valid_loader)"
   ]
  },
  {
   "cell_type": "code",
   "execution_count": 27,
   "metadata": {},
   "outputs": [
    {
     "data": {
      "text/plain": [
       "==========================================================================================\n",
       "Layer (type:depth-idx)                   Input Shape               Output Shape\n",
       "==========================================================================================\n",
       "CNNNet                                   [64, 1, 28, 28]           [64, 10]\n",
       "├─Conv2d: 1-1                            [64, 1, 28, 28]           [64, 8, 28, 28]\n",
       "├─MaxPool2d: 1-2                         [64, 8, 28, 28]           [64, 8, 14, 14]\n",
       "├─Conv2d: 1-3                            [64, 8, 14, 14]           [64, 16, 14, 14]\n",
       "├─MaxPool2d: 1-4                         [64, 16, 14, 14]          [64, 16, 7, 7]\n",
       "├─Linear: 1-5                            [64, 784]                 [64, 10]\n",
       "==========================================================================================\n",
       "Total params: 9,098\n",
       "Trainable params: 9,098\n",
       "Non-trainable params: 0\n",
       "Total mult-adds (Units.MEGABYTES): 19.17\n",
       "==========================================================================================\n",
       "Input size (MB): 0.20\n",
       "Forward/backward pass size (MB): 4.82\n",
       "Params size (MB): 0.04\n",
       "Estimated Total Size (MB): 5.06\n",
       "=========================================================================================="
      ]
     },
     "execution_count": 27,
     "metadata": {},
     "output_type": "execute_result"
    }
   ],
   "source": [
    "torchinfo.summary(model, input_size=(BATCH_SIZE, 1, 28, 28), col_names= (\"input_size\", \"output_size\"))"
   ]
  },
  {
   "cell_type": "code",
   "execution_count": 29,
   "metadata": {},
   "outputs": [
    {
     "data": {
      "image/png": "[encoded data removed]",
      "text/plain": [
       "<Figure size 1000x800 with 1 Axes>"
      ]
     },
     "metadata": {},
     "output_type": "display_data"
    }
   ],
   "source": [
    "plot_loss(train_loss=train_loss,valid_loss=valid_loss)"
   ]
  },
  {
   "cell_type": "markdown",
   "metadata": {},
   "source": [
    "### Evaluation"
   ]
  },
  {
   "cell_type": "code",
   "execution_count": 30,
   "metadata": {},
   "outputs": [],
   "source": [
    "acc, precision, recall, f1, cm, loss = check_accuracy(model=model, device=device,test_loader=test_loader, criterion=criterion)"
   ]
  },
  {
   "cell_type": "code",
   "execution_count": 25,
   "metadata": {},
   "outputs": [
    {
     "name": "stdout",
     "output_type": "stream",
     "text": [
      "Accuracy: 97.39%\n",
      "Precision: 0.9738, Recall: 0.9737, F1-Score: 0.9737\n"
     ]
    }
   ],
   "source": [
    "print(f'Accuracy: {acc * 100:.2f}%')\n",
    "print(f'Precision: {precision:.4f}, Recall: {recall:.4f}, F1-Score: {f1:.4f}')"
   ]
  },
  {
   "cell_type": "code",
   "execution_count": 31,
   "metadata": {},
   "outputs": [
    {
     "data": {
      "image/png": "[encoded data removed]",
      "text/plain": [
       "<Figure size 800x600 with 2 Axes>"
      ]
     },
     "metadata": {},
     "output_type": "display_data"
    }
   ],
   "source": [
    "plot_confusion_matrix(cm)"
   ]
  },
  {
   "cell_type": "code",
   "execution_count": null,
   "metadata": {},
   "outputs": [],
   "source": []
  }
 ],
 "metadata": {
  "kernelspec": {
   "display_name": "Python 3",
   "language": "python",
   "name": "python3"
  },
  "language_info": {
   "codemirror_mode": {
    "name": "ipython",
    "version": 3
   },
   "file_extension": ".py",
   "mimetype": "text/x-python",
   "name": "python",
   "nbconvert_exporter": "python",
   "pygments_lexer": "ipython3",
   "version": "3.11.3"
  }
 },
 "nbformat": 4,
 "nbformat_minor": 2
}
